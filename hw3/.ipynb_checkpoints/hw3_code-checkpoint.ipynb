{
 "cells": [
  {
   "cell_type": "code",
   "execution_count": 4,
   "metadata": {},
   "outputs": [],
   "source": [
    "import os\n",
    "import numpy as np\n",
    "import random\n",
    "import matplotlib.pyplot as plt\n",
    "import time\n",
    "\n",
    "def folder_list(path,label):\n",
    "    '''\n",
    "    PARAMETER PATH IS THE PATH OF YOUR LOCAL FOLDER\n",
    "    '''\n",
    "    filelist = os.listdir(path)\n",
    "    review = []\n",
    "    for infile in filelist:\n",
    "        file = os.path.join(path,infile)\n",
    "        r = read_data(file)\n",
    "        r.append(label)\n",
    "        review.append(r)\n",
    "    return review\n",
    "\n",
    "def read_data(file):\n",
    "    '''\n",
    "    Read each file into a list of strings.\n",
    "    Example:\n",
    "    [\"it's\", 'a', 'curious', 'thing', \"i've\", 'found', 'that', 'when', 'willis', 'is', 'not', 'called', 'on',\n",
    "    ...'to', 'carry', 'the', 'whole', 'movie', \"he's\", 'much', 'better', 'and', 'so', 'is', 'the', 'movie']\n",
    "    '''\n",
    "    f = open(file)\n",
    "    lines = f.read().split(' ')\n",
    "    symbols = '${}()[].,:;+-*/&|<>=~\" '\n",
    "    words = map(lambda Element: Element.translate(str.maketrans(\"\", \"\", symbols)).strip(), lines)\n",
    "    words = filter(None, words)\n",
    "    return list(words)\n",
    "\n",
    "\n",
    "def load_and_shuffle_data():\n",
    "    '''\n",
    "    pos_path is where you save positive review data.\n",
    "    neg_path is where you save negative review data.\n",
    "    '''\n",
    "    pos_path = \"data_reviews/pos\"\n",
    "    neg_path = \"data_reviews/neg\"\n",
    "\n",
    "    pos_review = folder_list(pos_path,1)\n",
    "    neg_review = folder_list(neg_path,-1)\n",
    "\n",
    "    review = pos_review + neg_review\n",
    "    random.shuffle(review)\n",
    "    return review\n",
    "\n",
    "# Taken from http://web.stanford.edu/class/cs221/ Assignment #2 Support Code\n",
    "def dotProduct(d1, d2):\n",
    "    \"\"\"\n",
    "    @param dict d1: a feature vector represented by a mapping from a feature (string) to a weight (float).\n",
    "    @param dict d2: same as d1\n",
    "    @return float: the dot product between d1 and d2\n",
    "    \"\"\"\n",
    "    if len(d1) < len(d2):\n",
    "        return dotProduct(d2, d1)\n",
    "    else:\n",
    "        return sum(d1.get(f, 0) * v for f, v in d2.items())\n",
    "\n",
    "def increment(d1, scale, d2):\n",
    "    \"\"\"\n",
    "    Implements d1 += scale * d2 for sparse vectors.\n",
    "    @param dict d1: the feature vector which is mutated.\n",
    "    @param float scale\n",
    "    @param dict d2: a feature vector.\n",
    "\n",
    "    NOTE: This function does not return anything, but rather\n",
    "    increments d1 in place. We do this because it is much faster to\n",
    "    change elements of d1 in place than to build a new dictionary and\n",
    "    return it.\n",
    "    \"\"\"\n",
    "    for f, v in d2.items():\n",
    "        d1[f] = d1.get(f, 0) + v * scale"
   ]
  },
  {
   "cell_type": "markdown",
   "metadata": {},
   "source": [
    "### Q5"
   ]
  },
  {
   "cell_type": "code",
   "execution_count": 7,
   "metadata": {},
   "outputs": [],
   "source": [
    "from collections import Counter\n",
    "def bow(words):\n",
    "    return dict(Counter(words))\n"
   ]
  },
  {
   "cell_type": "markdown",
   "metadata": {},
   "source": [
    "### Q6"
   ]
  },
  {
   "cell_type": "code",
   "execution_count": 8,
   "metadata": {},
   "outputs": [],
   "source": [
    "#load data\n",
    "df =load_and_shuffle_data()"
   ]
  },
  {
   "cell_type": "code",
   "execution_count": 9,
   "metadata": {},
   "outputs": [],
   "source": [
    "#split it into 1500 training examples and 500 validation examples\n",
    "X_train, y_train, X_test, y_test = [],[],[],[]\n",
    "for i in range(2000):\n",
    "    if i < 1500: #training\n",
    "        X_train.append(bow(df[i][:-1]))\n",
    "        y_train.append(df[i][-1])\n",
    "    else: #testing\n",
    "        X_test.append(bow(df[i][:-1]))\n",
    "        y_test.append(df[i][-1])\n"
   ]
  },
  {
   "cell_type": "markdown",
   "metadata": {},
   "source": [
    "### Q7"
   ]
  },
  {
   "cell_type": "code",
   "execution_count": 10,
   "metadata": {},
   "outputs": [],
   "source": [
    "def updates_1 (D, factor, etayx=None):\n",
    "    d=D.copy()\n",
    "    if etayx:\n",
    "        for key, val in etayx.items():\n",
    "            d[key] = factor* d.get(key,0) + val\n",
    "    else:\n",
    "        for key, val in d.items():\n",
    "            d[key] = factor*val\n",
    "    return d\n",
    "            \n",
    "def pegasos(X,y,para, w=None):\n",
    "    if w is None:\n",
    "        w = dict()\n",
    "    t = 0\n",
    "    for j in range(len(X)):\n",
    "        t +=1\n",
    "        eta = 1/(t*para)\n",
    "        wx= dotProduct(w,X[j])\n",
    "        if y[j]*wx < 1:\n",
    "            etayx = updates_1(X[j], eta*y[j])\n",
    "            w = updates_1(w,1-eta*para,etayx)\n",
    "        else:\n",
    "            w = updates_1(w,1-eta*para)\n",
    "    return w"
   ]
  },
  {
   "cell_type": "markdown",
   "metadata": {},
   "source": [
    "### Q8"
   ]
  },
  {
   "cell_type": "code",
   "execution_count": 126,
   "metadata": {},
   "outputs": [],
   "source": [
    "def updates_2 (w, factor, X):\n",
    "    W=w.copy()\n",
    "    for key, val in X.items():\n",
    "            W[key] = W.get(key,0) + factor*val\n",
    "    return W\n",
    "            \n",
    "def pegasos_2(X,y,para, W=None, s=None):\n",
    "    if W is None and s is None:\n",
    "        W=dict()\n",
    "        s=1\n",
    "    t = 1\n",
    "    for j in range(len(X)):\n",
    "        t +=1\n",
    "        eta = 1/(t*para)\n",
    "        wx= dotProduct(W,X[j])\n",
    "        if y[j]*s*wx < 1:\n",
    "            s = s*(1-eta*para)\n",
    "            W = updates_2(W,eta*y[j]/s,X[j])\n",
    "\n",
    "    return s,W"
   ]
  },
  {
   "cell_type": "markdown",
   "metadata": {},
   "source": [
    "### Q9"
   ]
  },
  {
   "cell_type": "code",
   "execution_count": 127,
   "metadata": {},
   "outputs": [
    {
     "name": "stdout",
     "output_type": "stream",
     "text": [
      "36.823466062545776\n"
     ]
    }
   ],
   "source": [
    "para = 10\n",
    "time_start = time.time()\n",
    "w = dict()\n",
    "for i in range(10):\n",
    "    w = pegasos(X_train, y_train, para, w)\n",
    "run_time = time.time() - time_start\n",
    "print(run_time)"
   ]
  },
  {
   "cell_type": "markdown",
   "metadata": {},
   "source": [
    "Time taken to run first approach is around 36 seconds."
   ]
  },
  {
   "cell_type": "code",
   "execution_count": 128,
   "metadata": {},
   "outputs": [
    {
     "name": "stdout",
     "output_type": "stream",
     "text": [
      "10.837271928787231\n"
     ]
    }
   ],
   "source": [
    "para = 10\n",
    "time_start_2 = time.time()\n",
    "W = dict()\n",
    "s=1\n",
    "for i in range(10):\n",
    "    s,W = pegasos_2(X_train, y_train, para, W, s)\n",
    "run_time_2 = time.time() - time_start_2\n",
    "print(run_time_2)"
   ]
  },
  {
   "cell_type": "markdown",
   "metadata": {},
   "source": [
    "Time taken to run second approach is around 10 seconds."
   ]
  },
  {
   "cell_type": "markdown",
   "metadata": {},
   "source": [
    "### Q10"
   ]
  },
  {
   "cell_type": "code",
   "execution_count": 129,
   "metadata": {},
   "outputs": [],
   "source": [
    "def classification_error(w, X, y):\n",
    "    count = 0\n",
    "    for i in range(len(y)):\n",
    "        if dotProduct(w, X[i]) < 0:\n",
    "            pred= -1\n",
    "        else: pred =1\n",
    "        if pred != y[i]:\n",
    "            count += 1\n",
    "    error = count/len(y)\n",
    "    return error\n",
    "    "
   ]
  },
  {
   "cell_type": "markdown",
   "metadata": {},
   "source": [
    "### Q11"
   ]
  },
  {
   "cell_type": "code",
   "execution_count": 130,
   "metadata": {},
   "outputs": [],
   "source": [
    "# approach 2 is the faster approach\n",
    "def find_min_err(para, orders):\n",
    "    s=1\n",
    "    W = dict()\n",
    "    min_err = 100000\n",
    "    count = 0\n",
    "    for epoch in range(100):\n",
    "        s, W = pegasos_2(X_train, y_train, para,W,s)\n",
    "        w = updates_1(W,s)\n",
    "        err = classification_error(w, X_test, y_test)\n",
    "        if err < min_err:\n",
    "            min_err = err\n",
    "            count = 0\n",
    "        else:\n",
    "            count += 1\n",
    "        if count > orders:\n",
    "            break\n",
    "\n",
    "    return min_err\n",
    "        \n"
   ]
  },
  {
   "cell_type": "code",
   "execution_count": 131,
   "metadata": {},
   "outputs": [
    {
     "name": "stdout",
     "output_type": "stream",
     "text": [
      "minimum test error for lambda = 1e-06 is 0.234\n",
      "minimum test error for lambda = 1e-05 is 0.234\n",
      "minimum test error for lambda = 0.0001 is 0.234\n",
      "minimum test error for lambda = 0.001 is 0.234\n",
      "minimum test error for lambda = 0.01 is 0.218\n",
      "minimum test error for lambda = 0.1 is 0.232\n",
      "minimum test error for lambda = 1 is 0.25\n",
      "minimum test error for lambda = 10 is 0.366\n",
      "minimum test error for lambda = 100 is 0.486\n"
     ]
    }
   ],
   "source": [
    "paras = [1e-6,1e-5,1e-4,1e-3,1e-2,0.1,1,10,100]\n",
    "errors = []\n",
    "for para in paras:\n",
    "    min_err=find_min_err(para, 5)\n",
    "    print(\"minimum test error for lambda = {} is {}\".format(para, min_err))\n",
    "    errors.append(min_err)\n",
    "    \n"
   ]
  },
  {
   "cell_type": "code",
   "execution_count": 134,
   "metadata": {},
   "outputs": [
    {
     "name": "stdout",
     "output_type": "stream",
     "text": [
      "minimum test error for lambda = 0.004 is 0.236\n",
      "minimum test error for lambda = 0.006 is 0.252\n",
      "minimum test error for lambda = 0.008 is 0.232\n",
      "minimum test error for lambda = 0.009 is 0.232\n",
      "minimum test error for lambda = 0.01 is 0.218\n",
      "minimum test error for lambda = 0.015 is 0.214\n",
      "minimum test error for lambda = 0.02 is 0.226\n",
      "minimum test error for lambda = 0.04 is 0.258\n",
      "minimum test error for lambda = 0.06 is 0.25\n"
     ]
    }
   ],
   "source": [
    "paras = [0.004,0.006,0.008,0.009,0.01,0.015,0.02,0.04,0.06]\n",
    "errors = []\n",
    "for para in paras:\n",
    "    min_err=find_min_err(para, 5)\n",
    "    print(\"minimum test error for lambda = {} is {}\".format(para, min_err))\n",
    "    errors.append(min_err)"
   ]
  },
  {
   "cell_type": "markdown",
   "metadata": {},
   "source": [
    "### Q12"
   ]
  },
  {
   "cell_type": "code",
   "execution_count": null,
   "metadata": {},
   "outputs": [],
   "source": []
  },
  {
   "cell_type": "markdown",
   "metadata": {},
   "source": [
    "### Q20"
   ]
  },
  {
   "cell_type": "code",
   "execution_count": 61,
   "metadata": {},
   "outputs": [],
   "source": [
    "import numpy as np\n",
    "import matplotlib.pyplot as plt\n",
    "import sklearn\n",
    "import scipy.spatial\n",
    "import functools\n",
    "\n",
    "%matplotlib inline"
   ]
  },
  {
   "cell_type": "code",
   "execution_count": 66,
   "metadata": {},
   "outputs": [],
   "source": [
    "### Kernel function generators\n",
    "def linear_kernel(X1, X2):\n",
    "    \"\"\"\n",
    "    Computes the linear kernel between two sets of vectors.\n",
    "    Args:\n",
    "        X1 - an n1xd matrix with vectors x1_1,...,x1_n1 in the rows\n",
    "        X2 - an n2xd matrix with vectors x2_1,...,x2_n2 in the rows\n",
    "    Returns:\n",
    "        matrix of size n1xn2, with x1_i^T x2_j in position i,j\n",
    "    \"\"\"\n",
    "    return np.dot(X1,np.transpose(X2))\n",
    " \n",
    "def RBF_kernel(X1,X2,sigma):\n",
    "    \"\"\"\n",
    "    Computes the RBF kernel between two sets of vectors   \n",
    "    Args:\n",
    "        X1 - an n1xd matrix with vectors x1_1,...,x1_n1 in the rows\n",
    "        X2 - an n2xd matrix with vectors x2_1,...,x2_n2 in the rows\n",
    "        sigma - the bandwidth (i.e. standard deviation) for the RBF/Gaussian kernel\n",
    "    Returns:\n",
    "        matrix of size n1xn2, with exp(-||x1_i-x2_j||^2/(2 sigma^2)) in position i,j\n",
    "    \"\"\"\n",
    "    return np.exp(-distance.cdist(X1, X2, 'sqeuclidean')/(2*sigma*sigma))\n",
    "\n",
    "def polynomial_kernel(X1, X2, offset, degree):\n",
    "    \"\"\"\n",
    "    Computes the inhomogeneous polynomial kernel between two sets of vectors\n",
    "    Args:\n",
    "        X1 - an n1xd matrix with vectors x1_1,...,x1_n1 in the rows\n",
    "        X2 - an n2xd matrix with vectors x2_1,...,x2_n2 in the rows\n",
    "        offset, degree - two parameters for the kernel\n",
    "    Returns:\n",
    "        matrix of size n1xn2, with (offset + <x1_i,x2_j>)^degree in position i,j\n",
    "    \"\"\"\n",
    "    return (np.dot(X1,np.transpose(X2))+ offset)** degree"
   ]
  },
  {
   "cell_type": "markdown",
   "metadata": {},
   "source": [
    "### Q21"
   ]
  },
  {
   "cell_type": "code",
   "execution_count": 63,
   "metadata": {},
   "outputs": [
    {
     "data": {
      "text/plain": [
       "array([[16,  4,  0, -8],\n",
       "       [ 4,  1,  0, -2],\n",
       "       [ 0,  0,  0,  0],\n",
       "       [-8, -2,  0,  4]])"
      ]
     },
     "execution_count": 63,
     "metadata": {},
     "output_type": "execute_result"
    }
   ],
   "source": [
    "x0 = np.array([-4,-1,0,2]).reshape(-1,1)\n",
    "linear_kernel(x0,x0)"
   ]
  },
  {
   "cell_type": "markdown",
   "metadata": {},
   "source": [
    "### Q22 (a)"
   ]
  },
  {
   "cell_type": "code",
   "execution_count": 71,
   "metadata": {},
   "outputs": [
    {
     "data": {
      "image/png": "[encoded data removed]",
      "text/plain": [
       "<Figure size 432x288 with 1 Axes>"
      ]
     },
     "metadata": {
      "needs_background": "light"
     },
     "output_type": "display_data"
    }
   ],
   "source": [
    "# PLot kernel machine functions\n",
    "\n",
    "plot_step = .01\n",
    "xpts = np.arange(-6.0, 6, plot_step).reshape(-1,1)\n",
    "prototypes = np.array([-4,-1,0,2]).reshape(-1,1)\n",
    "\n",
    "# Poly kernel\n",
    "y = polynomial_kernel(prototypes, xpts,1,3) \n",
    "for i in range(len(prototypes)):\n",
    "    label = \"Poly@\"+str(prototypes[i,:])\n",
    "    plt.plot(xpts, y[i,:], label=label)\n",
    "plt.legend(loc = 'best')\n",
    "plt.show() "
   ]
  },
  {
   "cell_type": "markdown",
   "metadata": {},
   "source": [
    "### Q22 (b)"
   ]
  },
  {
   "cell_type": "code",
   "execution_count": 72,
   "metadata": {},
   "outputs": [
    {
     "data": {
      "image/png": "[encoded data removed]",
      "text/plain": [
       "<Figure size 432x288 with 1 Axes>"
      ]
     },
     "metadata": {
      "needs_background": "light"
     },
     "output_type": "display_data"
    }
   ],
   "source": [
    "# PLot kernel machine functions\n",
    "from scipy.spatial import distance\n",
    "plot_step = .01\n",
    "xpts = np.arange(-6.0, 6, plot_step).reshape(-1,1)\n",
    "prototypes = np.array([-4,-1,0,2]).reshape(-1,1)\n",
    "\n",
    "# Poly kernel\n",
    "y = RBF_kernel(prototypes, xpts,1) \n",
    "for i in range(len(prototypes)):\n",
    "    label = \"RBF@\"+str(prototypes[i,:])\n",
    "    plt.plot(xpts, y[i,:], label=label)\n",
    "plt.legend(loc = 'best')\n",
    "plt.show() "
   ]
  },
  {
   "cell_type": "markdown",
   "metadata": {},
   "source": [
    "### Q23"
   ]
  },
  {
   "cell_type": "code",
   "execution_count": 73,
   "metadata": {},
   "outputs": [],
   "source": [
    "class Kernel_Machine(object):\n",
    "    def __init__(self, kernel, training_points, weights):\n",
    "        \"\"\"\n",
    "        Args:\n",
    "            kernel(X1,X2) - a function return the cross-kernel matrix between rows of X1 and rows of X2 for kernel k\n",
    "            training_points - an nxd matrix with rows x_1,..., x_n\n",
    "            weights - a vector of length n with entries alpha_1,...,alpha_n\n",
    "        \"\"\"\n",
    "\n",
    "        self.kernel = kernel\n",
    "        self.training_points = training_points\n",
    "        self.weights = weights\n",
    "        \n",
    "    def predict(self, X):\n",
    "        \"\"\"\n",
    "        Evaluates the kernel machine on the points given by the rows of X\n",
    "        Args:\n",
    "            X - an nxd matrix with inputs x_1,...,x_n in the rows\n",
    "        Returns:\n",
    "            Vector of kernel machine evaluations on the n points in X.  Specifically, jth entry of return vector is\n",
    "                Sum_{i=1}^R alpha_i k(x_j, mu_i)\n",
    "        \"\"\"\n",
    "        # TODO\n",
    "        ans = []\n",
    "        for i in range(len(X)):\n",
    "            eva = 0\n",
    "            for j in range(len(self.training_points)):\n",
    "                eva += self.weights[j]*self.kernel(self.training_points[j].reshape(-1,1), X[i].reshape(-1,1))\n",
    "            ans.append(eva)\n",
    "        return np.array(ans).reshape(-1,1)"
   ]
  },
  {
   "cell_type": "code",
   "execution_count": 76,
   "metadata": {},
   "outputs": [
    {
     "data": {
      "image/png": "[encoded data removed]",
      "text/plain": [
       "<Figure size 432x288 with 1 Axes>"
      ]
     },
     "metadata": {
      "needs_background": "light"
     },
     "output_type": "display_data"
    }
   ],
   "source": [
    "k = functools.partial(RBF_kernel,sigma=1)\n",
    "weight = np.array([1,-1,1]).reshape(-1,1)\n",
    "\n",
    "plot_step = .01\n",
    "xpts = np.arange(-6.0, 6, plot_step).reshape(-1,1)\n",
    "prototypes = np.array([-1,0,1]).reshape(-1,1)\n",
    "\n",
    "pred=Kernel_Machine(k,prototypes,weight).predict(xpts)\n",
    "plt.plot(xpts, pred)\n",
    "plt.title(\"Prediction with the RBF kernel\")\n",
    "plt.show()"
   ]
  },
  {
   "cell_type": "markdown",
   "metadata": {},
   "source": [
    "### Q24"
   ]
  },
  {
   "cell_type": "code",
   "execution_count": 79,
   "metadata": {},
   "outputs": [],
   "source": [
    "#load data\n",
    "data_train, data_test = np.loadtxt(\"krr-train.txt\"),np.loadtxt(\"krr-test.txt\")\n",
    "x_train, y_train = data_train[:,0].reshape(-1,1), data_train[:,1].reshape(-1,1)\n",
    "x_test, y_test = data_test[:,0].reshape(-1,1), data_test[:,1].reshape(-1,1)"
   ]
  },
  {
   "cell_type": "code",
   "execution_count": 80,
   "metadata": {},
   "outputs": [
    {
     "data": {
      "image/png": "[encoded data removed]",
      "text/plain": [
       "<Figure size 432x288 with 1 Axes>"
      ]
     },
     "metadata": {
      "needs_background": "light"
     },
     "output_type": "display_data"
    }
   ],
   "source": [
    "#plot the training data\n",
    "plt.scatter(data_train[:,0], data_train[:,1])\n",
    "plt.title(\"Training Data\")\n",
    "plt.xlabel(\"x\")\n",
    "plt.ylabel(\"y\")\n",
    "plt.show()"
   ]
  },
  {
   "cell_type": "markdown",
   "metadata": {},
   "source": [
    "### Q25"
   ]
  },
  {
   "cell_type": "code",
   "execution_count": 83,
   "metadata": {},
   "outputs": [],
   "source": [
    "def train_kernel_ridge_regression(X, y, kernel, lam):\n",
    "    K = kernel(X,X)\n",
    "    I = np.diag(np.full(len(y),1))\n",
    "    alpha = np.dot(np.linalg.inv(lam*I + K),y)\n",
    "    return Kernel_Machine(kernel, X, alpha)"
   ]
  },
  {
   "cell_type": "markdown",
   "metadata": {},
   "source": [
    "### Q26"
   ]
  },
  {
   "cell_type": "code",
   "execution_count": 88,
   "metadata": {},
   "outputs": [
    {
     "data": {
      "image/png": "[encoded data removed]",
      "text/plain": [
       "<Figure size 432x288 with 1 Axes>"
      ]
     },
     "metadata": {
      "needs_background": "light"
     },
     "output_type": "display_data"
    }
   ],
   "source": [
    "## Plot the best RBF fits you found\n",
    "plot_step = .001\n",
    "xpts = np.arange(0 , 1, plot_step).reshape(-1,1)\n",
    "plt.plot(x_train,y_train,'o')\n",
    "\n",
    "#Plot best RBF fit\n",
    "sigma = 1\n",
    "for sigma in [.01,.1,1]:\n",
    "    k = functools.partial(RBF_kernel, sigma=sigma)\n",
    "    f = train_kernel_ridge_regression(x_train, y_train, k, 0.0001)\n",
    "    label = \"Sigma=\"+str(sigma)+\",L2Reg=0.0001\"\n",
    "    plt.plot(xpts, f.predict(xpts), label=label)\n",
    "plt.legend(loc = 'best')\n",
    "plt.ylim(-1,1.75)\n",
    "plt.show()"
   ]
  },
  {
   "cell_type": "markdown",
   "metadata": {},
   "source": [
    "From the plot, we can see that sigma =0.01 would be morelikely to over fit and sigma=1 would be less."
   ]
  },
  {
   "cell_type": "markdown",
   "metadata": {},
   "source": [
    "### Q27"
   ]
  },
  {
   "cell_type": "code",
   "execution_count": 90,
   "metadata": {},
   "outputs": [
    {
     "data": {
      "image/png": "[encoded data removed]",
      "text/plain": [
       "<Figure size 432x288 with 1 Axes>"
      ]
     },
     "metadata": {
      "needs_background": "light"
     },
     "output_type": "display_data"
    }
   ],
   "source": [
    "## Plot the best RBF fits you found\n",
    "plot_step = .001\n",
    "xpts = np.arange(0 , 1, plot_step).reshape(-1,1)\n",
    "plt.plot(x_train,y_train,'o')\n",
    "\n",
    "#Plot best RBF fit\n",
    "sigma = 1\n",
    "for lam in [.0001,.01,.1,2]:\n",
    "    k = functools.partial(RBF_kernel, sigma=0.02)\n",
    "    f = train_kernel_ridge_regression(x_train, y_train, k, lam)\n",
    "    label = \"Sigma=0.02\"+\",L2Reg=\"+str(lam)\n",
    "    plt.plot(xpts, f.predict(xpts), label=label)\n",
    "plt.legend(loc = 'best')\n",
    "plt.ylim(-1,1.75)\n",
    "plt.show()"
   ]
  },
  {
   "cell_type": "markdown",
   "metadata": {},
   "source": [
    "From the plot, we can see that L2Reg =0.0001 would be morelikely to over fit and L2Reg=0.1 would be less."
   ]
  },
  {
   "cell_type": "markdown",
   "metadata": {},
   "source": [
    "### Q28"
   ]
  },
  {
   "cell_type": "code",
   "execution_count": 91,
   "metadata": {},
   "outputs": [],
   "source": [
    "from sklearn.base import BaseEstimator, RegressorMixin, ClassifierMixin\n",
    "\n",
    "class KernelRidgeRegression(BaseEstimator, RegressorMixin):  \n",
    "    \"\"\"sklearn wrapper for our kernel ridge regression\"\"\"\n",
    "     \n",
    "    def __init__(self, kernel=\"RBF\", sigma=1, degree=2, offset=1, l2reg=1):        \n",
    "        self.kernel = kernel\n",
    "        self.sigma = sigma\n",
    "        self.degree = degree\n",
    "        self.offset = offset\n",
    "        self.l2reg = l2reg \n",
    "\n",
    "    def fit(self, X, y=None):\n",
    "        \"\"\"\n",
    "        This should fit classifier. All the \"work\" should be done here.\n",
    "        \"\"\"\n",
    "        if (self.kernel == \"linear\"):\n",
    "            self.k = linear_kernel\n",
    "        elif (self.kernel == \"RBF\"):\n",
    "            self.k = functools.partial(RBF_kernel, sigma=self.sigma)\n",
    "        elif (self.kernel == \"polynomial\"):\n",
    "            self.k = functools.partial(polynomial_kernel, offset=self.offset, degree=self.degree)\n",
    "        else:\n",
    "            raise ValueError('Unrecognized kernel type requested.')\n",
    "        \n",
    "        self.kernel_machine_ = train_kernel_ridge_regression(X, y, self.k, self.l2reg)\n",
    "\n",
    "        return self\n",
    "\n",
    "    def predict(self, X, y=None):\n",
    "        try:\n",
    "            getattr(self, \"kernel_machine_\")\n",
    "        except AttributeError:\n",
    "            raise RuntimeError(\"You must train classifer before predicting data!\")\n",
    "\n",
    "        return(self.kernel_machine_.predict(X))\n",
    "\n",
    "    def score(self, X, y=None):\n",
    "        # get the average square error\n",
    "        return(((self.predict(X)-y)**2).mean()) "
   ]
  },
  {
   "cell_type": "code",
   "execution_count": 92,
   "metadata": {},
   "outputs": [],
   "source": [
    "from sklearn.model_selection import GridSearchCV,PredefinedSplit\n",
    "from sklearn.model_selection import ParameterGrid\n",
    "from sklearn.metrics import mean_squared_error,make_scorer\n",
    "import pandas as pd\n",
    "    \n",
    "test_fold = [-1]*len(x_train) + [0]*len(x_test)   #0 corresponds to test, -1 to train\n",
    "predefined_split = PredefinedSplit(test_fold=test_fold)"
   ]
  },
  {
   "cell_type": "code",
   "execution_count": 111,
   "metadata": {},
   "outputs": [
    {
     "data": {
      "text/plain": [
       "GridSearchCV(cv=PredefinedSplit(test_fold=array([-1, -1, ...,  0,  0])),\n",
       "             estimator=KernelRidgeRegression(),\n",
       "             param_grid=[{'kernel': ['RBF'],\n",
       "                          'l2reg': array([3.12500000e-02, 4.50077043e-02, 6.48221903e-02, 9.33599351e-02,\n",
       "       1.34461323e-01, 1.93657455e-01, 2.78914479e-01, 4.01705613e-01,\n",
       "       5.78555119e-01, 8.33262006e-01, 1.20010272e+00, 1.72844379e+00,\n",
       "       2.48938518e+00, 3.58532838...\n",
       "                          'l2reg': array([3.12500000e-02, 4.50077043e-02, 6.48221903e-02, 9.33599351e-02,\n",
       "       1.34461323e-01, 1.93657455e-01, 2.78914479e-01, 4.01705613e-01,\n",
       "       5.78555119e-01, 8.33262006e-01, 1.20010272e+00, 1.72844379e+00,\n",
       "       2.48938518e+00, 3.58532838e+00, 5.16375679e+00, 7.43708284e+00,\n",
       "       1.07112328e+01, 1.54268160e+01, 2.22184183e+01, 3.20000000e+01])}],\n",
       "             return_train_score=True,\n",
       "             scoring=make_scorer(mean_squared_error, greater_is_better=False))"
      ]
     },
     "execution_count": 111,
     "metadata": {},
     "output_type": "execute_result"
    }
   ],
   "source": [
    "param_grid = [{'kernel': ['RBF'],'sigma':10**(np.linspace(-3, 0,20)), 'l2reg': np.exp2(np.linspace(-5,5,20))},\n",
    "              {'kernel':['polynomial'],'offset':np.linspace(-10, 0, 20), 'degree':[2,3,4],'l2reg': np.exp2(np.linspace(-5,5,20))},\n",
    "              {'kernel':['linear'],'l2reg': np.exp2(np.linspace(-5,5,20))}]\n",
    "kernel_ridge_regression_estimator = KernelRidgeRegression()\n",
    "grid = GridSearchCV(kernel_ridge_regression_estimator, \n",
    "                    param_grid,\n",
    "                    cv = predefined_split,\n",
    "                    scoring = make_scorer(mean_squared_error,greater_is_better = False),\n",
    "                    return_train_score=True\n",
    "                   )\n",
    "grid.fit(np.vstack((x_train,x_test)),np.vstack((y_train,y_test))) "
   ]
  },
  {
   "cell_type": "code",
   "execution_count": 113,
   "metadata": {},
   "outputs": [
    {
     "data": {
      "text/html": [
       "<div>\n",
       "<style scoped>\n",
       "    .dataframe tbody tr th:only-of-type {\n",
       "        vertical-align: middle;\n",
       "    }\n",
       "\n",
       "    .dataframe tbody tr th {\n",
       "        vertical-align: top;\n",
       "    }\n",
       "\n",
       "    .dataframe thead th {\n",
       "        text-align: right;\n",
       "    }\n",
       "</style>\n",
       "<table border=\"1\" class=\"dataframe\">\n",
       "  <thead>\n",
       "    <tr style=\"text-align: right;\">\n",
       "      <th></th>\n",
       "      <th>param_degree</th>\n",
       "      <th>param_kernel</th>\n",
       "      <th>param_l2reg</th>\n",
       "      <th>param_offset</th>\n",
       "      <th>param_sigma</th>\n",
       "      <th>mean_test_score</th>\n",
       "      <th>mean_train_score</th>\n",
       "    </tr>\n",
       "  </thead>\n",
       "  <tbody>\n",
       "    <tr>\n",
       "      <th>131</th>\n",
       "      <td>-</td>\n",
       "      <td>RBF</td>\n",
       "      <td>0.278914</td>\n",
       "      <td>-</td>\n",
       "      <td>0.0545559</td>\n",
       "      <td>0.013824</td>\n",
       "      <td>0.014329</td>\n",
       "    </tr>\n",
       "    <tr>\n",
       "      <th>111</th>\n",
       "      <td>-</td>\n",
       "      <td>RBF</td>\n",
       "      <td>0.193657</td>\n",
       "      <td>-</td>\n",
       "      <td>0.0545559</td>\n",
       "      <td>0.013951</td>\n",
       "      <td>0.013711</td>\n",
       "    </tr>\n",
       "    <tr>\n",
       "      <th>151</th>\n",
       "      <td>-</td>\n",
       "      <td>RBF</td>\n",
       "      <td>0.401706</td>\n",
       "      <td>-</td>\n",
       "      <td>0.0545559</td>\n",
       "      <td>0.013970</td>\n",
       "      <td>0.015175</td>\n",
       "    </tr>\n",
       "    <tr>\n",
       "      <th>12</th>\n",
       "      <td>-</td>\n",
       "      <td>RBF</td>\n",
       "      <td>0.031250</td>\n",
       "      <td>-</td>\n",
       "      <td>0.078476</td>\n",
       "      <td>0.014083</td>\n",
       "      <td>0.015101</td>\n",
       "    </tr>\n",
       "    <tr>\n",
       "      <th>170</th>\n",
       "      <td>-</td>\n",
       "      <td>RBF</td>\n",
       "      <td>0.578555</td>\n",
       "      <td>-</td>\n",
       "      <td>0.0379269</td>\n",
       "      <td>0.014240</td>\n",
       "      <td>0.013232</td>\n",
       "    </tr>\n",
       "    <tr>\n",
       "      <th>...</th>\n",
       "      <td>...</td>\n",
       "      <td>...</td>\n",
       "      <td>...</td>\n",
       "      <td>...</td>\n",
       "      <td>...</td>\n",
       "      <td>...</td>\n",
       "      <td>...</td>\n",
       "    </tr>\n",
       "    <tr>\n",
       "      <th>1400</th>\n",
       "      <td>4</td>\n",
       "      <td>polynomial</td>\n",
       "      <td>1.200103</td>\n",
       "      <td>-10</td>\n",
       "      <td>-</td>\n",
       "      <td>59.261102</td>\n",
       "      <td>45.011023</td>\n",
       "    </tr>\n",
       "    <tr>\n",
       "      <th>1056</th>\n",
       "      <td>3</td>\n",
       "      <td>polynomial</td>\n",
       "      <td>2.489385</td>\n",
       "      <td>-1.57895</td>\n",
       "      <td>-</td>\n",
       "      <td>144.011093</td>\n",
       "      <td>126.880743</td>\n",
       "    </tr>\n",
       "    <tr>\n",
       "      <th>776</th>\n",
       "      <td>2</td>\n",
       "      <td>polynomial</td>\n",
       "      <td>22.218418</td>\n",
       "      <td>-1.57895</td>\n",
       "      <td>-</td>\n",
       "      <td>1194.515657</td>\n",
       "      <td>1121.413684</td>\n",
       "    </tr>\n",
       "    <tr>\n",
       "      <th>1125</th>\n",
       "      <td>3</td>\n",
       "      <td>polynomial</td>\n",
       "      <td>10.711233</td>\n",
       "      <td>-7.36842</td>\n",
       "      <td>-</td>\n",
       "      <td>3686.273824</td>\n",
       "      <td>3186.574533</td>\n",
       "    </tr>\n",
       "    <tr>\n",
       "      <th>1037</th>\n",
       "      <td>3</td>\n",
       "      <td>polynomial</td>\n",
       "      <td>1.728444</td>\n",
       "      <td>-1.05263</td>\n",
       "      <td>-</td>\n",
       "      <td>97605.184117</td>\n",
       "      <td>88590.328269</td>\n",
       "    </tr>\n",
       "  </tbody>\n",
       "</table>\n",
       "<p>1620 rows × 7 columns</p>\n",
       "</div>"
      ],
      "text/plain": [
       "     param_degree param_kernel  param_l2reg param_offset param_sigma  \\\n",
       "131             -          RBF     0.278914            -   0.0545559   \n",
       "111             -          RBF     0.193657            -   0.0545559   \n",
       "151             -          RBF     0.401706            -   0.0545559   \n",
       "12              -          RBF     0.031250            -    0.078476   \n",
       "170             -          RBF     0.578555            -   0.0379269   \n",
       "...           ...          ...          ...          ...         ...   \n",
       "1400            4   polynomial     1.200103          -10           -   \n",
       "1056            3   polynomial     2.489385     -1.57895           -   \n",
       "776             2   polynomial    22.218418     -1.57895           -   \n",
       "1125            3   polynomial    10.711233     -7.36842           -   \n",
       "1037            3   polynomial     1.728444     -1.05263           -   \n",
       "\n",
       "      mean_test_score  mean_train_score  \n",
       "131          0.013824          0.014329  \n",
       "111          0.013951          0.013711  \n",
       "151          0.013970          0.015175  \n",
       "12           0.014083          0.015101  \n",
       "170          0.014240          0.013232  \n",
       "...               ...               ...  \n",
       "1400        59.261102         45.011023  \n",
       "1056       144.011093        126.880743  \n",
       "776       1194.515657       1121.413684  \n",
       "1125      3686.273824       3186.574533  \n",
       "1037     97605.184117      88590.328269  \n",
       "\n",
       "[1620 rows x 7 columns]"
      ]
     },
     "execution_count": 113,
     "metadata": {},
     "output_type": "execute_result"
    }
   ],
   "source": [
    "pd.set_option('display.max_rows', 20)\n",
    "df = pd.DataFrame(grid.cv_results_)\n",
    "# Flip sign of score back, because GridSearchCV likes to maximize,\n",
    "# so it flips the sign of the score if \"greater_is_better=FALSE\"\n",
    "df['mean_test_score'] = -df['mean_test_score']\n",
    "df['mean_train_score'] = -df['mean_train_score']\n",
    "cols_to_keep = [\"param_degree\", \"param_kernel\",\"param_l2reg\" ,\"param_offset\",\"param_sigma\",\n",
    "        \"mean_test_score\",\"mean_train_score\"]\n",
    "df_toshow = df[cols_to_keep].fillna('-')\n",
    "df_toshow.sort_values(by=[\"mean_test_score\"])"
   ]
  },
  {
   "cell_type": "code",
   "execution_count": 114,
   "metadata": {},
   "outputs": [
    {
     "data": {
      "text/html": [
       "<div>\n",
       "<style scoped>\n",
       "    .dataframe tbody tr th:only-of-type {\n",
       "        vertical-align: middle;\n",
       "    }\n",
       "\n",
       "    .dataframe tbody tr th {\n",
       "        vertical-align: top;\n",
       "    }\n",
       "\n",
       "    .dataframe thead th {\n",
       "        text-align: right;\n",
       "    }\n",
       "</style>\n",
       "<table border=\"1\" class=\"dataframe\">\n",
       "  <thead>\n",
       "    <tr style=\"text-align: right;\">\n",
       "      <th></th>\n",
       "      <th>param_degree</th>\n",
       "      <th>param_kernel</th>\n",
       "      <th>param_l2reg</th>\n",
       "      <th>param_offset</th>\n",
       "      <th>param_sigma</th>\n",
       "      <th>mean_test_score</th>\n",
       "      <th>mean_train_score</th>\n",
       "    </tr>\n",
       "  </thead>\n",
       "  <tbody>\n",
       "    <tr>\n",
       "      <th>0</th>\n",
       "      <td>-</td>\n",
       "      <td>RBF</td>\n",
       "      <td>0.03125</td>\n",
       "      <td>-</td>\n",
       "      <td>0.001</td>\n",
       "      <td>0.118691</td>\n",
       "      <td>0.001021</td>\n",
       "    </tr>\n",
       "    <tr>\n",
       "      <th>1</th>\n",
       "      <td>-</td>\n",
       "      <td>RBF</td>\n",
       "      <td>0.03125</td>\n",
       "      <td>-</td>\n",
       "      <td>0.00143845</td>\n",
       "      <td>0.102475</td>\n",
       "      <td>0.001238</td>\n",
       "    </tr>\n",
       "    <tr>\n",
       "      <th>2</th>\n",
       "      <td>-</td>\n",
       "      <td>RBF</td>\n",
       "      <td>0.03125</td>\n",
       "      <td>-</td>\n",
       "      <td>0.00206914</td>\n",
       "      <td>0.086320</td>\n",
       "      <td>0.001446</td>\n",
       "    </tr>\n",
       "    <tr>\n",
       "      <th>3</th>\n",
       "      <td>-</td>\n",
       "      <td>RBF</td>\n",
       "      <td>0.03125</td>\n",
       "      <td>-</td>\n",
       "      <td>0.00297635</td>\n",
       "      <td>0.070069</td>\n",
       "      <td>0.001865</td>\n",
       "    </tr>\n",
       "    <tr>\n",
       "      <th>4</th>\n",
       "      <td>-</td>\n",
       "      <td>RBF</td>\n",
       "      <td>0.03125</td>\n",
       "      <td>-</td>\n",
       "      <td>0.00428133</td>\n",
       "      <td>0.051351</td>\n",
       "      <td>0.002454</td>\n",
       "    </tr>\n",
       "  </tbody>\n",
       "</table>\n",
       "</div>"
      ],
      "text/plain": [
       "  param_degree param_kernel  param_l2reg param_offset param_sigma  \\\n",
       "0            -          RBF      0.03125            -       0.001   \n",
       "1            -          RBF      0.03125            -  0.00143845   \n",
       "2            -          RBF      0.03125            -  0.00206914   \n",
       "3            -          RBF      0.03125            -  0.00297635   \n",
       "4            -          RBF      0.03125            -  0.00428133   \n",
       "\n",
       "   mean_test_score  mean_train_score  \n",
       "0         0.118691          0.001021  \n",
       "1         0.102475          0.001238  \n",
       "2         0.086320          0.001446  \n",
       "3         0.070069          0.001865  \n",
       "4         0.051351          0.002454  "
      ]
     },
     "execution_count": 114,
     "metadata": {},
     "output_type": "execute_result"
    }
   ],
   "source": [
    "df_toshow[df_toshow.param_kernel == 'RBF'].head(5)"
   ]
  },
  {
   "cell_type": "code",
   "execution_count": 115,
   "metadata": {},
   "outputs": [
    {
     "data": {
      "text/html": [
       "<div>\n",
       "<style scoped>\n",
       "    .dataframe tbody tr th:only-of-type {\n",
       "        vertical-align: middle;\n",
       "    }\n",
       "\n",
       "    .dataframe tbody tr th {\n",
       "        vertical-align: top;\n",
       "    }\n",
       "\n",
       "    .dataframe thead th {\n",
       "        text-align: right;\n",
       "    }\n",
       "</style>\n",
       "<table border=\"1\" class=\"dataframe\">\n",
       "  <thead>\n",
       "    <tr style=\"text-align: right;\">\n",
       "      <th></th>\n",
       "      <th>param_degree</th>\n",
       "      <th>param_kernel</th>\n",
       "      <th>param_l2reg</th>\n",
       "      <th>param_offset</th>\n",
       "      <th>param_sigma</th>\n",
       "      <th>mean_test_score</th>\n",
       "      <th>mean_train_score</th>\n",
       "    </tr>\n",
       "  </thead>\n",
       "  <tbody>\n",
       "    <tr>\n",
       "      <th>400</th>\n",
       "      <td>2</td>\n",
       "      <td>polynomial</td>\n",
       "      <td>0.03125</td>\n",
       "      <td>-10</td>\n",
       "      <td>-</td>\n",
       "      <td>0.066024</td>\n",
       "      <td>0.098050</td>\n",
       "    </tr>\n",
       "    <tr>\n",
       "      <th>401</th>\n",
       "      <td>2</td>\n",
       "      <td>polynomial</td>\n",
       "      <td>0.03125</td>\n",
       "      <td>-9.47368</td>\n",
       "      <td>-</td>\n",
       "      <td>0.066026</td>\n",
       "      <td>0.098049</td>\n",
       "    </tr>\n",
       "    <tr>\n",
       "      <th>402</th>\n",
       "      <td>2</td>\n",
       "      <td>polynomial</td>\n",
       "      <td>0.03125</td>\n",
       "      <td>-8.94737</td>\n",
       "      <td>-</td>\n",
       "      <td>0.066027</td>\n",
       "      <td>0.098047</td>\n",
       "    </tr>\n",
       "    <tr>\n",
       "      <th>403</th>\n",
       "      <td>2</td>\n",
       "      <td>polynomial</td>\n",
       "      <td>0.03125</td>\n",
       "      <td>-8.42105</td>\n",
       "      <td>-</td>\n",
       "      <td>0.066030</td>\n",
       "      <td>0.098045</td>\n",
       "    </tr>\n",
       "    <tr>\n",
       "      <th>404</th>\n",
       "      <td>2</td>\n",
       "      <td>polynomial</td>\n",
       "      <td>0.03125</td>\n",
       "      <td>-7.89474</td>\n",
       "      <td>-</td>\n",
       "      <td>0.066032</td>\n",
       "      <td>0.098042</td>\n",
       "    </tr>\n",
       "  </tbody>\n",
       "</table>\n",
       "</div>"
      ],
      "text/plain": [
       "    param_degree param_kernel  param_l2reg param_offset param_sigma  \\\n",
       "400            2   polynomial      0.03125          -10           -   \n",
       "401            2   polynomial      0.03125     -9.47368           -   \n",
       "402            2   polynomial      0.03125     -8.94737           -   \n",
       "403            2   polynomial      0.03125     -8.42105           -   \n",
       "404            2   polynomial      0.03125     -7.89474           -   \n",
       "\n",
       "     mean_test_score  mean_train_score  \n",
       "400         0.066024          0.098050  \n",
       "401         0.066026          0.098049  \n",
       "402         0.066027          0.098047  \n",
       "403         0.066030          0.098045  \n",
       "404         0.066032          0.098042  "
      ]
     },
     "execution_count": 115,
     "metadata": {},
     "output_type": "execute_result"
    }
   ],
   "source": [
    "df_toshow[df_toshow.param_kernel == 'polynomial'].head(5)"
   ]
  },
  {
   "cell_type": "code",
   "execution_count": 117,
   "metadata": {},
   "outputs": [
    {
     "data": {
      "text/html": [
       "<div>\n",
       "<style scoped>\n",
       "    .dataframe tbody tr th:only-of-type {\n",
       "        vertical-align: middle;\n",
       "    }\n",
       "\n",
       "    .dataframe tbody tr th {\n",
       "        vertical-align: top;\n",
       "    }\n",
       "\n",
       "    .dataframe thead th {\n",
       "        text-align: right;\n",
       "    }\n",
       "</style>\n",
       "<table border=\"1\" class=\"dataframe\">\n",
       "  <thead>\n",
       "    <tr style=\"text-align: right;\">\n",
       "      <th></th>\n",
       "      <th>param_degree</th>\n",
       "      <th>param_kernel</th>\n",
       "      <th>param_l2reg</th>\n",
       "      <th>param_offset</th>\n",
       "      <th>param_sigma</th>\n",
       "      <th>mean_test_score</th>\n",
       "      <th>mean_train_score</th>\n",
       "    </tr>\n",
       "  </thead>\n",
       "  <tbody>\n",
       "    <tr>\n",
       "      <th>1600</th>\n",
       "      <td>-</td>\n",
       "      <td>linear</td>\n",
       "      <td>0.031250</td>\n",
       "      <td>-</td>\n",
       "      <td>-</td>\n",
       "      <td>0.164568</td>\n",
       "      <td>0.206501</td>\n",
       "    </tr>\n",
       "    <tr>\n",
       "      <th>1601</th>\n",
       "      <td>-</td>\n",
       "      <td>linear</td>\n",
       "      <td>0.045008</td>\n",
       "      <td>-</td>\n",
       "      <td>-</td>\n",
       "      <td>0.164567</td>\n",
       "      <td>0.206501</td>\n",
       "    </tr>\n",
       "    <tr>\n",
       "      <th>1602</th>\n",
       "      <td>-</td>\n",
       "      <td>linear</td>\n",
       "      <td>0.064822</td>\n",
       "      <td>-</td>\n",
       "      <td>-</td>\n",
       "      <td>0.164567</td>\n",
       "      <td>0.206501</td>\n",
       "    </tr>\n",
       "    <tr>\n",
       "      <th>1603</th>\n",
       "      <td>-</td>\n",
       "      <td>linear</td>\n",
       "      <td>0.093360</td>\n",
       "      <td>-</td>\n",
       "      <td>-</td>\n",
       "      <td>0.164566</td>\n",
       "      <td>0.206501</td>\n",
       "    </tr>\n",
       "    <tr>\n",
       "      <th>1604</th>\n",
       "      <td>-</td>\n",
       "      <td>linear</td>\n",
       "      <td>0.134461</td>\n",
       "      <td>-</td>\n",
       "      <td>-</td>\n",
       "      <td>0.164564</td>\n",
       "      <td>0.206501</td>\n",
       "    </tr>\n",
       "  </tbody>\n",
       "</table>\n",
       "</div>"
      ],
      "text/plain": [
       "     param_degree param_kernel  param_l2reg param_offset param_sigma  \\\n",
       "1600            -       linear     0.031250            -           -   \n",
       "1601            -       linear     0.045008            -           -   \n",
       "1602            -       linear     0.064822            -           -   \n",
       "1603            -       linear     0.093360            -           -   \n",
       "1604            -       linear     0.134461            -           -   \n",
       "\n",
       "      mean_test_score  mean_train_score  \n",
       "1600         0.164568          0.206501  \n",
       "1601         0.164567          0.206501  \n",
       "1602         0.164567          0.206501  \n",
       "1603         0.164566          0.206501  \n",
       "1604         0.164564          0.206501  "
      ]
     },
     "execution_count": 117,
     "metadata": {},
     "output_type": "execute_result"
    }
   ],
   "source": [
    "df_toshow[df_toshow.param_kernel == 'linear'].head(5)"
   ]
  },
  {
   "cell_type": "markdown",
   "metadata": {},
   "source": [
    "Best hyperparameters:\n",
    "    - RBF kernel: sigma = 0.057, l2reg =0.211\n",
    "    - polynomial kernel: offset= , l2reg= \n",
    "    - linear kernel: l2reg=\n",
    "        "
   ]
  },
  {
   "cell_type": "markdown",
   "metadata": {},
   "source": [
    "### Q29"
   ]
  },
  {
   "cell_type": "code",
   "execution_count": null,
   "metadata": {},
   "outputs": [],
   "source": [
    "## Plot the best polynomial and RBF fits you found\n",
    "plot_step = .01\n",
    "xpts = np.arange(-.5 , 1.5, plot_step).reshape(-1,1) plt.plot(x_train,y_train,'o')\n",
    "#Plot best polynomial fit\n",
    "offset= -0.204\n",
    "degree = 4\n",
    "l2reg = 0.0017\n",
    "k = functools.partial(polynomial_kernel, offset=offset, degree=degree)\n",
    "f = train_kernel_ridge_regression(x_train, y_train, k, l2reg=l2reg) label = \"Offset=\"+str(offset)+\",Degree=\"+str(degree)+\",L2Reg=\"+str(l2reg) plt.plot(xpts, f.predict(xpts), label=label)\n",
    "#Plot best RBF fit\n",
    "sigma = 0.057\n",
    "l2reg= 0.211\n",
    "k = functools.partial(RBF_kernel, sigma=sigma)\n",
    "f = train_kernel_ridge_regression(x_train, y_train, k, l2reg=l2reg) label = \"Sigma=\"+str(sigma)+\",L2Reg=\"+str(l2reg)\n",
    "plt.plot(xpts, f.predict(xpts), label=label)\n",
    "plt.legend(loc = 'best')\n",
    "plt.ylim(-1,1.75)\n",
    "plt.show()"
   ]
  },
  {
   "cell_type": "markdown",
   "metadata": {},
   "source": [
    "### Optional"
   ]
  },
  {
   "cell_type": "code",
   "execution_count": 112,
   "metadata": {},
   "outputs": [
    {
     "data": {
      "image/png": "[encoded data removed]",
      "text/plain": [
       "<Figure size 288x288 with 1 Axes>"
      ]
     },
     "metadata": {
      "needs_background": "light"
     },
     "output_type": "display_data"
    }
   ],
   "source": [
    "# Load and plot the SVM data\n",
    "#load the training and test sets\n",
    "data_train,data_test = np.loadtxt(\"svm-train.txt\"),np.loadtxt(\"svm-test.txt\")\n",
    "x_train, y_train = data_train[:,0:2], data_train[:,2].reshape(-1,1)\n",
    "x_test, y_test = data_test[:,0:2], data_test[:,2].reshape(-1,1)\n",
    "\n",
    "#determine predictions for the training set\n",
    "yplus = np.ma.masked_where(y_train[:,0]<=0, y_train[:,0])\n",
    "xplus = x_train[~np.array(yplus.mask)]\n",
    "yminus = np.ma.masked_where(y_train[:,0]>0, y_train[:,0])\n",
    "xminus = x_train[~np.array(yminus.mask)]\n",
    "\n",
    "#plot the predictions for the training set\n",
    "figsize = plt.figaspect(1)\n",
    "f, (ax) = plt.subplots(1, 1, figsize=figsize) \n",
    "\n",
    "pluses = ax.scatter (xplus[:,0], xplus[:,1], marker='+', c='r', label = '+1 labels for training set')\n",
    "minuses = ax.scatter (xminus[:,0], xminus[:,1], marker=r'$-$', c='b', label = '-1 labels for training set')\n",
    "\n",
    "ax.set_ylabel(r\"$x_2$\", fontsize=11)\n",
    "ax.set_xlabel(r\"$x_1$\", fontsize=11)\n",
    "ax.set_title('Training set size = %s'% len(data_train), fontsize=9)  \n",
    "ax.axis('tight')\n",
    "ax.legend(handles=[pluses, minuses], fontsize=9)\n",
    "plt.show()"
   ]
  },
  {
   "cell_type": "code",
   "execution_count": null,
   "metadata": {},
   "outputs": [],
   "source": [
    "# Code to help plot the decision regions\n",
    "# (Note: This ode isn't necessarily entirely appropriate for the questions asked. So think about what you are doing.)\n",
    " \n",
    "sigma=1\n",
    "k = functools.partial(RBF_kernel, sigma=sigma)\n",
    "f = train_soft_svm(x_train, y_train, k, ...)\n",
    "\n",
    "#determine the decision regions for the predictions\n",
    "x1_min = min(x_test[:,0])\n",
    "x1_max= max(x_test[:,0])\n",
    "x2_min = min(x_test[:,1])\n",
    "x2_max= max(x_test[:,1])\n",
    "h=0.1\n",
    "xx, yy = np.meshgrid(np.arange(x1_min, x1_max, h),\n",
    "                     np.arange(x2_min, x2_max, h))\n",
    "\n",
    "Z = f.predict(np.c_[xx.ravel(), yy.ravel()])\n",
    "Z = Z.reshape(xx.shape)\n",
    "\n",
    "#determine the predictions for the test set\n",
    "y_bar = f.predict (x_test) \n",
    "yplus = np.ma.masked_where(y_bar<=0, y_bar)\n",
    "xplus = x_test[~np.array(yplus.mask)]\n",
    "yminus = np.ma.masked_where(y_bar>0, y_bar)\n",
    "xminus = x_test[~np.array(yminus.mask)]\n",
    "\n",
    "#plot the learned boundary and the predictions for the test set\n",
    "figsize = plt.figaspect(1)\n",
    "f, (ax) = plt.subplots(1, 1, figsize=figsize) \n",
    "decision =ax.contourf(xx, yy, Z, cmap=plt.cm.coolwarm, alpha=0.8)\n",
    "pluses = ax.scatter (xplus[:,0], xplus[:,1], marker='+', c='b', label = '+1 prediction for test set')\n",
    "minuses = ax.scatter (xminus[:,0], xminus[:,1], marker=r'$-$', c='b', label = '-1 prediction for test set')\n",
    "ax.set_ylabel(r\"$x_2$\", fontsize=11)\n",
    "ax.set_xlabel(r\"$x_1$\", fontsize=11)\n",
    "ax.set_title('SVM with RBF Kernel: training set size = %s'% len(data_train), fontsize=9)  \n",
    "ax.axis('tight')\n",
    "ax.legend(handles=[pluses, minuses], fontsize=9)\n",
    "plt.show()"
   ]
  }
 ],
 "metadata": {
  "kernelspec": {
   "display_name": "Python 3",
   "language": "python",
   "name": "python3"
  },
  "language_info": {
   "codemirror_mode": {
    "name": "ipython",
    "version": 3
   },
   "file_extension": ".py",
   "mimetype": "text/x-python",
   "name": "python",
   "nbconvert_exporter": "python",
   "pygments_lexer": "ipython3",
   "version": "3.9.2"
  }
 },
 "nbformat": 4,
 "nbformat_minor": 4
}
