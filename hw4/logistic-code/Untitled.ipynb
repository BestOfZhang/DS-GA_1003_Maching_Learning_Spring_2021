{
 "cells": [
  {
   "cell_type": "code",
   "execution_count": 142,
   "metadata": {},
   "outputs": [],
   "source": [
    "import numpy as np\n",
    "from scipy.optimize import minimize\n",
    "from sklearn.preprocessing import normalize\n",
    "from functools import partial\n",
    "import matplotlib.pyplot as plt"
   ]
  },
  {
   "cell_type": "code",
   "execution_count": 93,
   "metadata": {},
   "outputs": [],
   "source": [
    "x_train, y_train = np.loadtxt(\"X_train.txt\", delimiter=','), np.loadtxt(\"y_train.txt\", delimiter=',')\n",
    "x_test, y_test = np.loadtxt(\"X_val.txt\", delimiter=','), np.loadtxt(\"y_val.txt\", delimiter=',')\n",
    "y_train = np.where(y_train==0, -1, y_train)\n",
    "y_test = np.where(y_test==0, -1, y_test)\n",
    "x_train = normalize(x_train, axis=1, norm='l1')\n",
    "x_test = normalize(x_test, axis=1, norm='l1')\n",
    "x_train = np.hstack((np.ones((x_train.shape[0], 1)), x_train))\n",
    "x_test = np.hstack((np.ones((x_test.shape[0], 1)), x_test))"
   ]
  },
  {
   "cell_type": "code",
   "execution_count": null,
   "metadata": {},
   "outputs": [],
   "source": []
  },
  {
   "cell_type": "code",
   "execution_count": 115,
   "metadata": {},
   "outputs": [
    {
     "data": {
      "text/plain": [
       "array([ 0.75251905, -0.86512452, -1.12503589, -0.87032738,  0.63328105,\n",
       "        0.50690458,  1.61230379,  0.39796389,  1.9338638 ,  0.32022846,\n",
       "        0.2229138 ,  1.91452461,  0.92650107, -0.32046919, -0.23725216,\n",
       "       -1.01071505, -0.67604309, -0.24989417, -0.06906168, -1.73825584,\n",
       "       -1.77079741])"
      ]
     },
     "execution_count": 115,
     "metadata": {},
     "output_type": "execute_result"
    }
   ],
   "source": [
    "theta = np.random.randn(x_train.shape[1])\n",
    "theta"
   ]
  },
  {
   "cell_type": "code",
   "execution_count": 123,
   "metadata": {},
   "outputs": [],
   "source": [
    "# Q5\n",
    "def f_objective(theta, X, y, l2_param=1):\n",
    "    '''\n",
    "    Args:\n",
    "        theta: 1D numpy array of size num_features\n",
    "        X: 2D numpy array of size (num_instances, num_features)\n",
    "        y: 1D numpy array of size num_instances\n",
    "        l2_param: regularization parameter\n",
    "\n",
    "    Returns:\n",
    "        objective: scalar value of objective function\n",
    "    '''\n",
    "    \n",
    "    res = 0\n",
    "    \n",
    "    for i in range(X.shape[0]):\n",
    "        res += np.logaddexp(0, -np.asarray([y[i]]).reshape(-1,1) @ theta.reshape(1,-1) @ X[i, :])\n",
    "    \n",
    "    res /= X.shape[0]\n",
    "    res += l2_param * np.power(np.linalg.norm(theta), 2)\n",
    "    \n",
    "    return res[0]\n",
    "        "
   ]
  },
  {
   "cell_type": "code",
   "execution_count": 132,
   "metadata": {},
   "outputs": [],
   "source": [
    "def fit_logistic_reg(X, y, objective_function, l2_param=1):\n",
    "    '''\n",
    "    Args:\n",
    "        X: 2D numpy array of size (num_instances, num_features)\n",
    "        y: 1D numpy array of size num_instances\n",
    "        objective_function: function returning the value of the objective\n",
    "        l2_param: regularization parameter\n",
    "        \n",
    "    Returns:\n",
    "        optimal_theta: 1D numpy array of size num_features\n",
    "    '''\n",
    "    p = partial(f_objective, X=X, y=y, l2_param=l2_param)\n",
    "    np.random.seed(42)\n",
    "    init = np.random.randn(X.shape[1])\n",
    "    res = minimize(p, init)\n",
    "    \n",
    "    return res.x"
   ]
  },
  {
   "cell_type": "code",
   "execution_count": 133,
   "metadata": {},
   "outputs": [
    {
     "data": {
      "text/plain": [
       "4.204436569739591"
      ]
     },
     "execution_count": 133,
     "metadata": {},
     "output_type": "execute_result"
    }
   ],
   "source": [
    "f_objective(theta, x_test, y_test, l2_param=0.15)"
   ]
  },
  {
   "cell_type": "code",
   "execution_count": 134,
   "metadata": {},
   "outputs": [
    {
     "data": {
      "text/plain": [
       "array([ 1.15691960e-02,  3.36791993e-04,  2.19400099e-05, -4.41840572e-04,\n",
       "        7.10089307e-02, -2.31106001e-03, -6.98399815e-04, -1.56476801e-03,\n",
       "        5.01362020e-04, -1.16883287e-03, -1.17822997e-02,  2.77263336e-03,\n",
       "       -2.54524348e-03,  5.20048081e-03, -2.36922075e-03, -1.43070708e-03,\n",
       "        1.28889347e-03, -1.38525225e-03, -4.44549863e-03, -3.21646183e-03,\n",
       "       -5.72872939e-03])"
      ]
     },
     "execution_count": 134,
     "metadata": {},
     "output_type": "execute_result"
    }
   ],
   "source": [
    "fit_logistic_reg(x_train, y_train, f_objective, l2_param=0.15)"
   ]
  },
  {
   "cell_type": "code",
   "execution_count": 163,
   "metadata": {},
   "outputs": [
    {
     "name": "stdout",
     "output_type": "stream",
     "text": [
      "val neg log likelihood for lambda = 1e-09 is 236.02083148017067\n",
      "val neg log likelihood for lambda = 1e-08 is 236.02108948929623\n",
      "val neg log likelihood for lambda = 1e-07 is 236.01445514132354\n",
      "val neg log likelihood for lambda = 1e-06 is 235.96954637666923\n",
      "val neg log likelihood for lambda = 1e-05 is 235.5680362276185\n",
      "val neg log likelihood for lambda = 0.0001 is 233.68661131087472\n",
      "val neg log likelihood for lambda = 0.001 is 244.32058856180257\n",
      "val neg log likelihood for lambda = 0.01 is 269.7775206397925\n",
      "val neg log likelihood for lambda = 0.1 is 276.40739994371876\n",
      "val neg log likelihood for lambda = 1 is 277.1707686911918\n",
      "val neg log likelihood for lambda = 10 is 277.24998997429293\n",
      "val neg log likelihood for lambda = 100 is 277.25798306360264\n",
      "val neg log likelihood for lambda = 1000 is 277.2587833142504\n",
      "val neg log likelihood for lambda = 10000 is 277.2588633917613\n"
     ]
    }
   ],
   "source": [
    "params = [1e-9, 1e-8, 1e-7, 1e-6, 1e-5, 1e-4, 1e-3, 1e-2, 0.1, 1, 10, 100, 1000, 10000]\n",
    "res = []\n",
    "for param in params:\n",
    "    theta = fit_logistic_reg(x_train, y_train, f_objective, l2_param=param)\n",
    "    ll = log_likelihood(theta, x_test, y_test)\n",
    "    print(\"val neg log likelihood for lambda = {} is {}\".format(param, ll))\n",
    "    res.append(ll)"
   ]
  },
  {
   "cell_type": "code",
   "execution_count": 169,
   "metadata": {},
   "outputs": [
    {
     "name": "stdout",
     "output_type": "stream",
     "text": [
      "[1.00000000e-05 1.25892541e-05 1.58489319e-05 1.99526231e-05\n",
      " 2.51188643e-05 3.16227766e-05 3.98107171e-05 5.01187234e-05\n",
      " 6.30957344e-05 7.94328235e-05 1.00000000e-04 1.25892541e-04\n",
      " 1.58489319e-04 1.99526231e-04 2.51188643e-04 3.16227766e-04\n",
      " 3.98107171e-04 5.01187234e-04 6.30957344e-04 7.94328235e-04]\n",
      "val neg log likelihood for lambda = 1e-05 is 235.5680362276185\n",
      "val neg log likelihood for lambda = 1.2589254117941661e-05 is 235.45162183206293\n",
      "val neg log likelihood for lambda = 1.5848931924611107e-05 is 235.3185645723375\n",
      "val neg log likelihood for lambda = 1.9952623149688746e-05 is 235.1388916718844\n",
      "val neg log likelihood for lambda = 2.511886431509572e-05 is 234.96200803623458\n",
      "val neg log likelihood for lambda = 3.1622776601683667e-05 is 234.75558762906076\n",
      "val neg log likelihood for lambda = 3.981071705534953e-05 is 234.52947004623633\n",
      "val neg log likelihood for lambda = 5.011872336272694e-05 is 234.2903373523557\n",
      "val neg log likelihood for lambda = 6.309573444801891e-05 is 234.05711140923415\n",
      "val neg log likelihood for lambda = 7.943282347242757e-05 is 233.84442258368802\n",
      "val neg log likelihood for lambda = 9.999999999999918e-05 is 233.68633663836204\n",
      "val neg log likelihood for lambda = 0.00012589254117941558 is 233.62087156076953\n",
      "val neg log likelihood for lambda = 0.0001584893192461098 is 233.68506083553456\n",
      "val neg log likelihood for lambda = 0.00019952623149688584 is 233.93071825477057\n",
      "val neg log likelihood for lambda = 0.00025118864315095514 is 234.40843022352752\n",
      "val neg log likelihood for lambda = 0.00031622776601683404 is 235.17991402311316\n",
      "val neg log likelihood for lambda = 0.00039810717055349204 is 236.2770412196626\n",
      "val neg log likelihood for lambda = 0.0005011872336272653 is 237.74290904751294\n",
      "val neg log likelihood for lambda = 0.000630957344480184 is 239.58518908983652\n",
      "val neg log likelihood for lambda = 0.0007943282347242692 is 241.79442707605065\n"
     ]
    }
   ],
   "source": [
    "params = np.power(10, np.arange(-5,-3,0.1))\n",
    "print(params)\n",
    "res = []\n",
    "for param in params:\n",
    "    theta = fit_logistic_reg(x_train, y_train, f_objective, l2_param=param)\n",
    "    ll = log_likelihood(theta, x_test, y_test)\n",
    "    print(\"val neg log likelihood for lambda = {} is {}\".format(param, ll))\n",
    "    res.append(ll)"
   ]
  },
  {
   "cell_type": "code",
   "execution_count": 170,
   "metadata": {},
   "outputs": [
    {
     "data": {
      "image/png": "[encoded data removed]",
      "text/plain": [
       "<Figure size 432x288 with 1 Axes>"
      ]
     },
     "metadata": {
      "needs_background": "light"
     },
     "output_type": "display_data"
    }
   ],
   "source": [
    "plt.xscale('log')\n",
    "plt.plot(params, res)\n",
    "plt.ylabel('log likelihood')\n",
    "plt.xlabel('Lambda')\n",
    "plt.title('Q7: log likelihood on validation set w.r.t. lambda')\n",
    "plt.savefig('Q7')\n",
    "plt.show()"
   ]
  },
  {
   "cell_type": "code",
   "execution_count": 161,
   "metadata": {},
   "outputs": [],
   "source": [
    "def log_likelihood(theta, X, y):\n",
    "    res = 0\n",
    "    \n",
    "    for i in range(X.shape[0]):\n",
    "        res += np.logaddexp(0, -np.asarray([y[i]]).reshape(-1,1) @ theta.reshape(1,-1) @ X[i, :])\n",
    "    \n",
    "    return res[0]"
   ]
  },
  {
   "cell_type": "code",
   "execution_count": 171,
   "metadata": {},
   "outputs": [
    {
     "data": {
      "text/plain": [
       "0.00012589254117941558"
      ]
     },
     "execution_count": 171,
     "metadata": {},
     "output_type": "execute_result"
    }
   ],
   "source": [
    " params[np.argmin(res)]"
   ]
  }
 ],
 "metadata": {
  "kernelspec": {
   "display_name": "Python 3",
   "language": "python",
   "name": "python3"
  },
  "language_info": {
   "codemirror_mode": {
    "name": "ipython",
    "version": 3
   },
   "file_extension": ".py",
   "mimetype": "text/x-python",
   "name": "python",
   "nbconvert_exporter": "python",
   "pygments_lexer": "ipython3",
   "version": "3.8.5"
  }
 },
 "nbformat": 4,
 "nbformat_minor": 4
}
